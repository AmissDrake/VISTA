{
 "cells": [
  {
   "cell_type": "code",
   "execution_count": 1,
   "id": "f719654b-a4d0-4979-beea-2e84e6d23a4f",
   "metadata": {},
   "outputs": [
    {
     "ename": "KeyboardInterrupt",
     "evalue": "",
     "output_type": "error",
     "traceback": [
      "\u001b[1;31m---------------------------------------------------------------------------\u001b[0m",
      "\u001b[1;31mKeyboardInterrupt\u001b[0m                         Traceback (most recent call last)",
      "Cell \u001b[1;32mIn[1], line 43\u001b[0m\n\u001b[0;32m     40\u001b[0m     cap\u001b[38;5;241m.\u001b[39mrelease()\n\u001b[0;32m     41\u001b[0m     cv2\u001b[38;5;241m.\u001b[39mdestroyAllWindows()\n\u001b[1;32m---> 43\u001b[0m detect_hand_webcam()\n",
      "Cell \u001b[1;32mIn[1], line 15\u001b[0m, in \u001b[0;36mdetect_hand_webcam\u001b[1;34m()\u001b[0m\n\u001b[0;32m     12\u001b[0m     \u001b[38;5;28;01mbreak\u001b[39;00m\n\u001b[0;32m     14\u001b[0m frame \u001b[38;5;241m=\u001b[39m cv2\u001b[38;5;241m.\u001b[39mresize(frame, (\u001b[38;5;241m500\u001b[39m, \u001b[38;5;241m500\u001b[39m))\n\u001b[1;32m---> 15\u001b[0m hsl \u001b[38;5;241m=\u001b[39m cv2\u001b[38;5;241m.\u001b[39mcvtColor(frame, cv2\u001b[38;5;241m.\u001b[39mCOLOR_BGR2HLS)\n\u001b[0;32m     16\u001b[0m mask \u001b[38;5;241m=\u001b[39m cv2\u001b[38;5;241m.\u001b[39minRange(hsl, lower_bound, upper_bound)\n\u001b[0;32m     18\u001b[0m kernel \u001b[38;5;241m=\u001b[39m np\u001b[38;5;241m.\u001b[39mones((\u001b[38;5;241m5\u001b[39m, \u001b[38;5;241m5\u001b[39m), np\u001b[38;5;241m.\u001b[39muint8)\n",
      "\u001b[1;31mKeyboardInterrupt\u001b[0m: "
     ]
    }
   ],
   "source": [
    "import cv2\n",
    "import numpy as np\n",
    "\n",
    "def detect_hand_webcam():\n",
    "    cap = cv2.VideoCapture(0)\n",
    "    lower_bound = np.array([0, 40, 30])\n",
    "    upper_bound = np.array([20, 255, 200])\n",
    "\n",
    "    while True:\n",
    "        ret, frame = cap.read()\n",
    "        if not ret:\n",
    "            break\n",
    "\n",
    "        frame = cv2.resize(frame, (500, 500))\n",
    "        hsl = cv2.cvtColor(frame, cv2.COLOR_BGR2HLS)\n",
    "        mask = cv2.inRange(hsl, lower_bound, upper_bound)\n",
    "\n",
    "        kernel = np.ones((5, 5), np.uint8)\n",
    "        mask = cv2.morphologyEx(mask, cv2.MORPH_CLOSE, kernel, iterations=2)\n",
    "        mask = cv2.morphologyEx(mask, cv2.MORPH_OPEN, kernel, iterations=2)\n",
    "        mask = cv2.GaussianBlur(mask, (5, 5), 0)\n",
    "\n",
    "        masked_frame = cv2.bitwise_and(frame, frame, mask=mask)\n",
    "        gray = cv2.cvtColor(masked_frame, cv2.COLOR_BGR2GRAY)\n",
    "        thresh = cv2.adaptiveThreshold(gray, 255, cv2.ADAPTIVE_THRESH_GAUSSIAN_C, \n",
    "                                       cv2.THRESH_BINARY, 11, 2)\n",
    "\n",
    "        contours, _ = cv2.findContours(thresh, cv2.RETR_EXTERNAL, cv2.CHAIN_APPROX_SIMPLE)\n",
    "        filtered_contours = [cnt for cnt in contours if 3000 < cv2.contourArea(cnt) < 50000]\n",
    "\n",
    "        contour_frame = frame.copy()\n",
    "        cv2.drawContours(contour_frame, filtered_contours, -1, (0, 255, 0), 3)\n",
    "\n",
    "        cv2.imshow(\"Mask\", mask)\n",
    "        cv2.imshow(\"Contours\", contour_frame)\n",
    "\n",
    "        if cv2.waitKey(1) & 0xFF == ord('q'):\n",
    "            break\n",
    "\n",
    "    cap.release()\n",
    "    cv2.destroyAllWindows()\n",
    "\n",
    "detect_hand_webcam()\n"
   ]
  },
  {
   "cell_type": "code",
   "execution_count": null,
   "id": "6ae1e78c-5c7b-43a2-8da6-25e39df2eab2",
   "metadata": {},
   "outputs": [],
   "source": []
  }
 ],
 "metadata": {
  "kernelspec": {
   "display_name": "Python [conda env:base] *",
   "language": "python",
   "name": "conda-base-py"
  },
  "language_info": {
   "codemirror_mode": {
    "name": "ipython",
    "version": 3
   },
   "file_extension": ".py",
   "mimetype": "text/x-python",
   "name": "python",
   "nbconvert_exporter": "python",
   "pygments_lexer": "ipython3",
   "version": "3.12.3"
  }
 },
 "nbformat": 4,
 "nbformat_minor": 5
}
