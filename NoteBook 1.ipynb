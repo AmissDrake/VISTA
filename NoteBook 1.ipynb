{
 "cells": [
  {
   "cell_type": "code",
   "execution_count": null,
   "id": "0f4f2ac1-1b45-4361-97a9-049d41bc6017",
   "metadata": {},
   "outputs": [],
   "source": [
    "import cv2"
   ]
  },
  {
   "cell_type": "code",
   "execution_count": 2,
   "id": "b03292b7-68c8-46a6-85a8-6fe0e5d6d72e",
   "metadata": {},
   "outputs": [],
   "source": [
    "img = cv2.imread(r\"C:\\Users\\scsai\\Downloads\\WhatsApp Image 2025-02-28 at 13.55.44_c6a75319.jpg\")"
   ]
  },
  {
   "cell_type": "code",
   "execution_count": 3,
   "id": "bbd85401-d592-47de-9c6f-2246878e7aa6",
   "metadata": {},
   "outputs": [],
   "source": [
    "cv2.imshow('Palm',img)\n",
    "cv2.waitKey(0)\n",
    "cv2.destroyAllWindows()"
   ]
  },
  {
   "cell_type": "code",
   "execution_count": 4,
   "id": "6daa7877-4318-419a-9fe1-e2e0014ec017",
   "metadata": {},
   "outputs": [
    {
     "data": {
      "text/plain": [
       "(1600, 1200, 3)"
      ]
     },
     "execution_count": 4,
     "metadata": {},
     "output_type": "execute_result"
    }
   ],
   "source": [
    "img.shape\n"
   ]
  },
  {
   "cell_type": "code",
   "execution_count": 5,
   "id": "a518b31b-d979-448f-90c1-cb0cc84c59b8",
   "metadata": {},
   "outputs": [],
   "source": [
    "resized_image = cv2.resize(img,(300,500))\n",
    "cv2.imshow(\"Palm_new\",resized_image)\n",
    "cv2.waitKey(0)\n",
    "cv2.destroyAllWindows()"
   ]
  },
  {
   "cell_type": "code",
   "execution_count": 6,
   "id": "fce2593c-d81d-426b-8cab-4c95c2f56831",
   "metadata": {},
   "outputs": [],
   "source": [
    "cropped_image = resized_image[0:300,100:400]\n",
    "cv2.imshow('Cropped_image',cropped_image)\n",
    "cv2.waitKey(0)\n",
    "cv2.destroyAllWindows()"
   ]
  },
  {
   "cell_type": "code",
   "execution_count": 9,
   "id": "42d5ed48-bbdd-46af-9101-052413fb581c",
   "metadata": {},
   "outputs": [],
   "source": [
    "(h,w) = resized_image.shape[:2]\n",
    "center = (h/2,w/2)\n",
    "matrix = cv2.getRotationMatrix2D(center,45,1)\n",
    "rotated_matrix = cv2.warpAffine(resized_image,matrix,(500,500))\n",
    "\n",
    "cv2.imshow(\"Rotated Img\",rotated_matrix)\n",
    "cv2.waitKey(0)\n",
    "cv2.destroyAllWindows()"
   ]
  },
  {
   "cell_type": "code",
   "execution_count": 10,
   "id": "f6472642-1f2a-41a2-b2e1-8f801d2a3d23",
   "metadata": {},
   "outputs": [],
   "source": [
    "hsl_img = cv2.cvtColor(resized_image,cv2.COLOR_BGR2HLS)\n",
    "cv2.imshow('HSL',hsl_img)\n",
    "cv2.waitKey(0)\n",
    "cv2.destroyAllWindows()"
   ]
  },
  {
   "cell_type": "code",
   "execution_count": 11,
   "id": "b1898565-e1c9-4d47-946b-57b289cbef91",
   "metadata": {},
   "outputs": [],
   "source": [
    "import numpy as np\n",
    "lower_bound = np.array([0,30,60])\n",
    "upper_bound = np.array([20,150,255])\n",
    "mask = cv2.inRange(hsl_img,lower_bound,upper_bound)\n",
    "cv2.imshow('MaSK',mask)\n",
    "cv2.waitKey(0)\n",
    "cv2.destroyAllWindows()"
   ]
  },
  {
   "cell_type": "code",
   "execution_count": 33,
   "id": "2173f8dd-0203-403d-8f11-4ee3c56e6d0e",
   "metadata": {},
   "outputs": [],
   "source": [
    "filtered_img = cv2.bitwise_and(resized_image, resized_image, mask=mask)\n",
    "cv2.imshow(\"Filtered Image\", filtered_img)\n",
    "cv2.waitKey(0)\n",
    "cv2.destroyAllWindows()\n"
   ]
  },
  {
   "cell_type": "code",
   "execution_count": 34,
   "id": "4c2b401d-5179-4504-895f-45dbb4132732",
   "metadata": {},
   "outputs": [],
   "source": [
    "gray_img = cv2.cvtColor(filtered_img, cv2.COLOR_BGR2GRAY)\n",
    "cv2.imshow(\"Grayscale Image\", gray_img)\n",
    "cv2.waitKey(0)\n",
    "cv2.destroyAllWindows()\n"
   ]
  },
  {
   "cell_type": "code",
   "execution_count": null,
   "id": "b3616c10-dccc-4ea7-879f-64636e91ab7f",
   "metadata": {},
   "outputs": [],
   "source": [
    "ret, thresh = cv2.threshold(gray_img, 50, 255, cv2.THRESH_BINARY)\n",
    "cv2.imshow(\"Threshold Image\", thresh)\n",
    "cv2.waitKey(0)\n",
    "cv2.destroyAllWindows()\n",
    "\n",
    "contours, _ = cv2.findContours(thresh, cv2.RETR_EXTERNAL, cv2.CHAIN_APPROX_SIMPLE)\n",
    "\n",
    "cv2.drawContours(resized_image, contours, -1, (0, 255, 0), 2)\n",
    "\n",
    "cv2.imshow(\"Contours\", img)\n",
    "cv2.waitKey(0)\n",
    "cv2.destroyAllWindows()\n"
   ]
  },
  {
   "cell_type": "code",
   "execution_count": null,
   "id": "d84d74c0-9185-4dbf-b258-0f86a1193d1b",
   "metadata": {},
   "outputs": [],
   "source": []
  }
 ],
 "metadata": {
  "kernelspec": {
   "display_name": "Python [conda env:base] *",
   "language": "python",
   "name": "conda-base-py"
  },
  "language_info": {
   "codemirror_mode": {
    "name": "ipython",
    "version": 3
   },
   "file_extension": ".py",
   "mimetype": "text/x-python",
   "name": "python",
   "nbconvert_exporter": "python",
   "pygments_lexer": "ipython3",
   "version": "3.12.3"
  }
 },
 "nbformat": 4,
 "nbformat_minor": 5
}
